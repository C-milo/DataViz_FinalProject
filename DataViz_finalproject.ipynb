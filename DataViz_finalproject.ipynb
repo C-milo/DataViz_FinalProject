{
 "cells": [
  {
   "cell_type": "code",
   "execution_count": 18,
   "metadata": {},
   "outputs": [
    {
     "data": {
      "text/html": [
       "<div>\n",
       "<style scoped>\n",
       "    .dataframe tbody tr th:only-of-type {\n",
       "        vertical-align: middle;\n",
       "    }\n",
       "\n",
       "    .dataframe tbody tr th {\n",
       "        vertical-align: top;\n",
       "    }\n",
       "\n",
       "    .dataframe thead th {\n",
       "        text-align: right;\n",
       "    }\n",
       "</style>\n",
       "<table border=\"1\" class=\"dataframe\">\n",
       "  <thead>\n",
       "    <tr style=\"text-align: right;\">\n",
       "      <th></th>\n",
       "      <th>number</th>\n",
       "      <th>neighbourhood name</th>\n",
       "    </tr>\n",
       "  </thead>\n",
       "  <tbody>\n",
       "    <tr>\n",
       "      <td>0</td>\n",
       "      <td>0</td>\n",
       "      <td>toronto</td>\n",
       "    </tr>\n",
       "    <tr>\n",
       "      <td>1</td>\n",
       "      <td>1</td>\n",
       "      <td>west%20humber-clairville</td>\n",
       "    </tr>\n",
       "    <tr>\n",
       "      <td>2</td>\n",
       "      <td>2</td>\n",
       "      <td>mount%20olive-silverstone-jamestown</td>\n",
       "    </tr>\n",
       "    <tr>\n",
       "      <td>3</td>\n",
       "      <td>3</td>\n",
       "      <td>thistletown-beaumond%20heights</td>\n",
       "    </tr>\n",
       "    <tr>\n",
       "      <td>4</td>\n",
       "      <td>4</td>\n",
       "      <td>rexdale-kipling</td>\n",
       "    </tr>\n",
       "    <tr>\n",
       "      <td>...</td>\n",
       "      <td>...</td>\n",
       "      <td>...</td>\n",
       "    </tr>\n",
       "    <tr>\n",
       "      <td>136</td>\n",
       "      <td>136</td>\n",
       "      <td>west%20hill</td>\n",
       "    </tr>\n",
       "    <tr>\n",
       "      <td>137</td>\n",
       "      <td>137</td>\n",
       "      <td>woburn</td>\n",
       "    </tr>\n",
       "    <tr>\n",
       "      <td>138</td>\n",
       "      <td>138</td>\n",
       "      <td>eglinton%20east</td>\n",
       "    </tr>\n",
       "    <tr>\n",
       "      <td>139</td>\n",
       "      <td>139</td>\n",
       "      <td>scarborough%20village</td>\n",
       "    </tr>\n",
       "    <tr>\n",
       "      <td>140</td>\n",
       "      <td>140</td>\n",
       "      <td>guildwood</td>\n",
       "    </tr>\n",
       "  </tbody>\n",
       "</table>\n",
       "<p>141 rows × 2 columns</p>\n",
       "</div>"
      ],
      "text/plain": [
       "     number                   neighbourhood name\n",
       "0         0                              toronto\n",
       "1         1             west%20humber-clairville\n",
       "2         2  mount%20olive-silverstone-jamestown\n",
       "3         3       thistletown-beaumond%20heights\n",
       "4         4                      rexdale-kipling\n",
       "..      ...                                  ...\n",
       "136     136                          west%20hill\n",
       "137     137                               woburn\n",
       "138     138                      eglinton%20east\n",
       "139     139                scarborough%20village\n",
       "140     140                            guildwood\n",
       "\n",
       "[141 rows x 2 columns]"
      ]
     },
     "execution_count": 18,
     "metadata": {},
     "output_type": "execute_result"
    }
   ],
   "source": [
    "import pandas as pd\n",
    "import numpy as np\n",
    "import json\n",
    "from urllib.request import urlopen\n",
    "from bs4 import BeautifulSoup\n",
    "\n",
    "#https://www.cbc.ca/cxense/v1/search?q=murder%20toronto&sortOrder=date&section=news&page=1&fields=feed\n",
    "\n",
    "hoods_df = pd.read_csv(\"tor_neighbourhoods.csv\")\n",
    "\n",
    "base = \"https://www.cbc.ca/cxense/v1/search?q=murder%20\"\n",
    "params = \"&sortOrder=date&section=news&fields=feed&page=\"\n",
    "page = 1\n",
    "\n",
    "colnames = ['id','title','date','desc','image','url','neighbourhood']\n",
    "cbc_df = pd.DataFrame(columns=colnames)\n",
    "news_dtl = {}\n",
    "\n",
    "hoods_df"
   ]
  },
  {
   "cell_type": "code",
   "execution_count": 19,
   "metadata": {},
   "outputs": [],
   "source": [
    "for place in hoods_df['neighbourhood name']:\n",
    "#     print(place)\n",
    "#     print(base+place+params+str(page))\n",
    "    while page <= 10:\n",
    "        try:\n",
    "            cbc = base+place+params+str(page)            \n",
    "            response = urlopen(cbc)\n",
    "            data = json.loads(response.read())\n",
    "            for n in data:            \n",
    "                news_dtl['id'] = n['id']\n",
    "                news_dtl['title'] = n['title']\n",
    "                news_dtl['date'] = n['publishtime']\n",
    "                news_dtl['neighbourhood'] = place\n",
    "                news_dtl['desc'] = n['description']\n",
    "                news_dtl['image'] = n['dominantimage']                \n",
    "                news_dtl['url'] = n['url']\n",
    "                cbc_df.loc[len(cbc_df)] = news_dtl\n",
    "            page += 1\n",
    "        except:\n",
    "            page += 1\n",
    "            continue        \n",
    "    page = 1"
   ]
  },
  {
   "cell_type": "code",
   "execution_count": 20,
   "metadata": {},
   "outputs": [
    {
     "data": {
      "text/plain": [
       "1591"
      ]
     },
     "execution_count": 20,
     "metadata": {},
     "output_type": "execute_result"
    }
   ],
   "source": [
    "len(cbc_df)\n",
    "cbc_df.head(10)"
   ]
  },
  {
   "cell_type": "code",
   "execution_count": 21,
   "metadata": {},
   "outputs": [
    {
     "data": {
      "text/plain": [
       "1591"
      ]
     },
     "execution_count": 21,
     "metadata": {},
     "output_type": "execute_result"
    }
   ],
   "source": [
    "cbc_df.drop_duplicates('id')\n",
    "len(cbc_df)"
   ]
  },
  {
   "cell_type": "code",
   "execution_count": 22,
   "metadata": {},
   "outputs": [],
   "source": [
    "cbc_df.to_csv('cbc_murders.csv', index=None, header=True)"
   ]
  },
  {
   "cell_type": "code",
   "execution_count": null,
   "metadata": {},
   "outputs": [],
   "source": []
  }
 ],
 "metadata": {
  "kernelspec": {
   "display_name": "Python 3",
   "language": "python",
   "name": "python3"
  },
  "language_info": {
   "codemirror_mode": {
    "name": "ipython",
    "version": 3
   },
   "file_extension": ".py",
   "mimetype": "text/x-python",
   "name": "python",
   "nbconvert_exporter": "python",
   "pygments_lexer": "ipython3",
   "version": "3.7.3"
  }
 },
 "nbformat": 4,
 "nbformat_minor": 2
}
